{
 "cells": [
  {
   "cell_type": "markdown",
   "id": "feac6fa7",
   "metadata": {},
   "source": [
    "# Training the machine learning model based on the readings"
   ]
  },
  {
   "cell_type": "code",
   "execution_count": 2,
   "id": "87498cc6",
   "metadata": {},
   "outputs": [
    {
     "name": "stdout",
     "output_type": "stream",
     "text": [
      "Trained model saved as 'battery_level_prediction_model.joblib'\n",
      "Mean Squared Error: 0.008623275772295021\n"
     ]
    },
    {
     "data": {
      "image/png": "[encoded data removed]",
      "text/plain": [
       "<Figure size 432x288 with 1 Axes>"
      ]
     },
     "metadata": {
      "needs_background": "light"
     },
     "output_type": "display_data"
    }
   ],
   "source": [
    "import pandas as pd\n",
    "import joblib\n",
    "from sklearn.model_selection import train_test_split\n",
    "from sklearn.linear_model import LinearRegression\n",
    "from sklearn.metrics import mean_squared_error\n",
    "import matplotlib.pyplot as plt\n",
    "\n",
    "# Load your CSV file\n",
    "file_path = 'All_range_data_1.csv'\n",
    "data = pd.read_csv(file_path)\n",
    "\n",
    "# Extract features (Speed, Reading) and target variable (Batterylvl)\n",
    "X = data[['Speed', 'Reading']]\n",
    "y = data['Batterylvl']\n",
    "\n",
    "# Split the data into training and testing sets\n",
    "X_train, X_test, y_train, y_test = train_test_split(X, y, test_size=0.2, random_state=42)\n",
    "\n",
    "# Create and train the linear regression model\n",
    "model = LinearRegression()\n",
    "model.fit(X_train, y_train)\n",
    "\n",
    "# Assuming 'model' is your trained Linear Regression model\n",
    "model_filename = 'battery_level_prediction_model.joblib'\n",
    "joblib.dump(model, model_filename)\n",
    "print(f\"Trained model saved as '{model_filename}'\")\n",
    "\n",
    "# Make predictions on the test set\n",
    "predictions = model.predict(X_test)\n",
    "\n",
    "# Evaluate the model\n",
    "mse = mean_squared_error(y_test, predictions)\n",
    "print(f'Mean Squared Error: {mse}')\n",
    "\n",
    "# Visualize the predicted vs actual values\n",
    "plt.scatter(y_test, predictions)\n",
    "plt.xlabel('Actual Batterylvl')\n",
    "plt.ylabel('Predicted Batterylvl')\n",
    "plt.title('Actual vs Predicted Batterylvl')\n",
    "plt.show()"
   ]
  },
  {
   "cell_type": "markdown",
   "id": "de9bad66",
   "metadata": {},
   "source": [
    "# Getting the output from the trained machine learning model\\"
   ]
  },
  {
   "cell_type": "code",
   "execution_count": 26,
   "id": "de611ee5",
   "metadata": {},
   "outputs": [
    {
     "name": "stdout",
     "output_type": "stream",
     "text": [
      "Predicted Batterylvl for given Speed and Reading: 91.16256111951967%\n"
     ]
    }
   ],
   "source": [
    "import joblib\n",
    "\n",
    "def translate(value, leftMin, leftMax, rightMin, rightMax):\n",
    "    # Figure out how 'wide' each range is\n",
    "    leftSpan = leftMax - leftMin\n",
    "    rightSpan = rightMax - rightMin\n",
    "\n",
    "    # Convert the left range into a 0-1 range (float)\n",
    "    valueScaled = float(value - leftMin) / float(leftSpan)\n",
    "\n",
    "    # Convert the 0-1 range into a value in the right range.\n",
    "    return rightMin + (valueScaled * rightSpan)\n",
    "\n",
    "# Load the trained model\n",
    "model_filename = 'battery_level_prediction_model.joblib'\n",
    "loaded_model = joblib.load(model_filename)\n",
    "\n",
    "# Now, you can use the loaded model to make predictions for new data\n",
    "new_data = pd.DataFrame({'Speed': [1000], 'Reading': [3.90]})\n",
    "predicted_battery_level = loaded_model.predict(new_data)\n",
    "\n",
    "#Showing the battery percentage level\n",
    "percentage = translate(predicted_battery_level[0],3.7,4.2,0,100)\n",
    "print(f'Predicted Batterylvl for given Speed and Reading: {percentage}%')"
   ]
  }
 ],
 "metadata": {
  "kernelspec": {
   "display_name": "Python 3 (ipykernel)",
   "language": "python",
   "name": "python3"
  },
  "language_info": {
   "codemirror_mode": {
    "name": "ipython",
    "version": 3
   },
   "file_extension": ".py",
   "mimetype": "text/x-python",
   "name": "python",
   "nbconvert_exporter": "python",
   "pygments_lexer": "ipython3",
   "version": "3.9.12"
  }
 },
 "nbformat": 4,
 "nbformat_minor": 5
}
